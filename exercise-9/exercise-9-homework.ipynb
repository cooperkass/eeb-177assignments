{
 "cells": [
  {
   "cell_type": "markdown",
   "metadata": {},
   "source": [
    "# Homework"
   ]
  },
  {
   "cell_type": "markdown",
   "metadata": {},
   "source": [
    "## Question 1\n",
    "\n",
    "#### a) Across the Canidae lineage, from 50 million years ago to about 30 million years ago, the speciation rate is roughly constant around 0.275.  At 30 million years ago, the speciation rate dips sharply to around 0.15.  It then gradually decreases to around 0.1 around 15 million years ago.  From then until around 5 million years ago, it stays roughly constant.  Then, around 5 million years ago, it spikes up to its current rate of around 0.275.\n",
    "\n",
    "#### b) Across the Canidae lineage, the extinction rate is pretty much constant at about 0.1 from more than 50 million years ago until about 2 million years ago.  At about 2 million years ago, the extinction rate shoots up to its current level of about 1.2.\n",
    "\n",
    "#### c) Across the Canidae lineage, the diversification rate stays firmly above 0 from more than 50 million years ago until around 30 million years ago.  At 30 million years ago, the diversification rate begins to gradually dip, and it stays very slightly below 0 from about 18 million years ago until around 6 million years ago.  Then the diversification rate shoots up back to previous times before dramatically dropping to its current rate of about -0.8."
   ]
  },
  {
   "cell_type": "markdown",
   "metadata": {},
   "source": [
    "## Question 6\n",
    "\n",
    "#### Compared to the plots made with only 250000 steps in the MCMC chain, the RTT plots for the new, longer run are not very different at all.  There are extremely subtle changes, but the overall shapes of the plots are the same.  The longevity plot is the only one that changed noticeably--it stayed at a constant value for the most part, whereas the first plot took a stepwise shape down to a common minimum."
   ]
  },
  {
   "cell_type": "code",
   "execution_count": null,
   "metadata": {
    "collapsed": true
   },
   "outputs": [],
   "source": []
  }
 ],
 "metadata": {
  "anaconda-cloud": {},
  "kernelspec": {
   "display_name": "Python [default]",
   "language": "python",
   "name": "python3"
  },
  "language_info": {
   "codemirror_mode": {
    "name": "ipython",
    "version": 3
   },
   "file_extension": ".py",
   "mimetype": "text/x-python",
   "name": "python",
   "nbconvert_exporter": "python",
   "pygments_lexer": "ipython3",
   "version": "3.5.2"
  }
 },
 "nbformat": 4,
 "nbformat_minor": 2
}
